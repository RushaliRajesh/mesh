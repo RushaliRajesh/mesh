{
 "cells": [
  {
   "cell_type": "code",
   "execution_count": 1,
   "metadata": {},
   "outputs": [],
   "source": [
    "import numpy as np\n",
    "import torch"
   ]
  },
  {
   "cell_type": "code",
   "execution_count": 19,
   "metadata": {},
   "outputs": [],
   "source": [
    "a = np.random.randint(1,10,size=(3,2,4,3))"
   ]
  },
  {
   "cell_type": "code",
   "execution_count": 25,
   "metadata": {},
   "outputs": [],
   "source": [
    "b= np.random.randint(1,10,size=(2,3)).T"
   ]
  },
  {
   "cell_type": "code",
   "execution_count": 26,
   "metadata": {},
   "outputs": [
    {
     "data": {
      "text/plain": [
       "tensor([[[[8, 7, 4],\n",
       "          [6, 7, 4],\n",
       "          [9, 9, 2],\n",
       "          [5, 3, 4]],\n",
       "\n",
       "         [[2, 2, 7],\n",
       "          [6, 9, 3],\n",
       "          [5, 5, 2],\n",
       "          [6, 2, 1]]],\n",
       "\n",
       "\n",
       "        [[[8, 1, 6],\n",
       "          [9, 8, 3],\n",
       "          [3, 6, 7],\n",
       "          [4, 9, 5]],\n",
       "\n",
       "         [[4, 2, 2],\n",
       "          [9, 3, 7],\n",
       "          [3, 4, 5],\n",
       "          [4, 1, 3]]],\n",
       "\n",
       "\n",
       "        [[[5, 2, 9],\n",
       "          [9, 6, 9],\n",
       "          [6, 4, 1],\n",
       "          [9, 8, 5]],\n",
       "\n",
       "         [[1, 9, 6],\n",
       "          [1, 8, 9],\n",
       "          [6, 9, 2],\n",
       "          [6, 2, 5]]]])"
      ]
     },
     "execution_count": 26,
     "metadata": {},
     "output_type": "execute_result"
    }
   ],
   "source": [
    "a"
   ]
  },
  {
   "cell_type": "code",
   "execution_count": 27,
   "metadata": {},
   "outputs": [
    {
     "data": {
      "text/plain": [
       "array([[6, 7],\n",
       "       [2, 1],\n",
       "       [6, 3]])"
      ]
     },
     "execution_count": 27,
     "metadata": {},
     "output_type": "execute_result"
    }
   ],
   "source": [
    "b"
   ]
  },
  {
   "cell_type": "code",
   "execution_count": 28,
   "metadata": {},
   "outputs": [
    {
     "ename": "TypeError",
     "evalue": "expected np.ndarray (got Tensor)",
     "output_type": "error",
     "traceback": [
      "\u001b[0;31m---------------------------------------------------------------------------\u001b[0m",
      "\u001b[0;31mTypeError\u001b[0m                                 Traceback (most recent call last)",
      "Cell \u001b[0;32mIn[28], line 1\u001b[0m\n\u001b[0;32m----> 1\u001b[0m a,b \u001b[38;5;241m=\u001b[39m \u001b[43mtorch\u001b[49m\u001b[38;5;241;43m.\u001b[39;49m\u001b[43mfrom_numpy\u001b[49m\u001b[43m(\u001b[49m\u001b[43ma\u001b[49m\u001b[43m)\u001b[49m,torch\u001b[38;5;241m.\u001b[39mfrom_numpy(b)\n",
      "\u001b[0;31mTypeError\u001b[0m: expected np.ndarray (got Tensor)"
     ]
    }
   ],
   "source": [
    "a,b = torch.from_numpy(a),torch.from_numpy(b)"
   ]
  },
  {
   "cell_type": "code",
   "execution_count": 29,
   "metadata": {},
   "outputs": [
    {
     "ename": "TypeError",
     "evalue": "matmul(): argument 'other' (position 2) must be Tensor, not numpy.ndarray",
     "output_type": "error",
     "traceback": [
      "\u001b[0;31m---------------------------------------------------------------------------\u001b[0m",
      "\u001b[0;31mTypeError\u001b[0m                                 Traceback (most recent call last)",
      "Cell \u001b[0;32mIn[29], line 1\u001b[0m\n\u001b[0;32m----> 1\u001b[0m ans \u001b[38;5;241m=\u001b[39m \u001b[43mtorch\u001b[49m\u001b[38;5;241;43m.\u001b[39;49m\u001b[43mmatmul\u001b[49m\u001b[43m(\u001b[49m\u001b[43ma\u001b[49m\u001b[43m,\u001b[49m\u001b[43mb\u001b[49m\u001b[43m)\u001b[49m\n\u001b[1;32m      2\u001b[0m ans\n",
      "\u001b[0;31mTypeError\u001b[0m: matmul(): argument 'other' (position 2) must be Tensor, not numpy.ndarray"
     ]
    }
   ],
   "source": [
    "ans = torch.matmul(a,b)\n",
    "ans"
   ]
  },
  {
   "cell_type": "code",
   "execution_count": 30,
   "metadata": {},
   "outputs": [
    {
     "data": {
      "text/plain": [
       "torch.Size([3, 2, 3, 2])"
      ]
     },
     "execution_count": 30,
     "metadata": {},
     "output_type": "execute_result"
    }
   ],
   "source": [
    "ans.shape"
   ]
  },
  {
   "cell_type": "code",
   "execution_count": 1,
   "metadata": {},
   "outputs": [
    {
     "name": "stdout",
     "output_type": "stream",
     "text": [
      "Jupyter environment detected. Enabling Open3D WebVisualizer.\n",
      "[Open3D INFO] WebRTC GUI backend enabled.\n",
      "[Open3D INFO] WebRTCWindowSystem: HTTP handshake server disabled.\n"
     ]
    }
   ],
   "source": [
    "import numpy as np \n",
    "import open3d as o3d\n",
    "import os\n",
    "from natsort import natsorted\n",
    "from glob import glob\n",
    "from upsampling_mesh import meshify\n",
    "from sklearn.neighbors import NearestNeighbors\n",
    "import ckwrap \n",
    "import matplotlib.pyplot as plt\n",
    "from scipy.io import savemat\n",
    "\n",
    "o3d.utility.set_verbosity_level(o3d.utility.VerbosityLevel.Error)\n",
    "\n",
    "def find_neighs(points, k=2):\n",
    "    nbrs = NearestNeighbors(n_neighbors=k, algorithm= 'kd_tree').fit(points)\n",
    "    distances, indices = nbrs.kneighbors(points) \n",
    "    return distances, indices\n",
    "\n",
    "def fit_plane(points):\n",
    "    # print(points.shape)\n",
    "    dists_ori, indices_ori = find_neighs(points, k=250)\n",
    "    pcd_neighs = points[indices_ori]\n",
    "    # print(pcd_neighs.shape)\n",
    "    norms_arr= []\n",
    "    for pt in pcd_neighs:\n",
    "        pca = PCA(n_components=3)\n",
    "        pca.fit(pt)\n",
    "        norms_arr.append(pca.components_[2])\n",
    "    # print(\"norms_arr shape: \", np.array(norms_arr).shape)\n",
    "    return norms_arr\n",
    "\n",
    "def patching(points, normals, radius_chosen):\n",
    "    dists_ori, indices_ori = find_neighs(points, k=250)\n",
    "    dists_ori = dists_ori[:, 1:]\n",
    "    indices_ori = indices_ori[:, 1:]\n",
    "    \n",
    "    # Apply ckmeans to all rows and extract labels using a lambda function:\n",
    "    labels_per_row = np.apply_along_axis(lambda row: ckwrap.ckmeans(row, 5).labels, 1, dists_ori)\n",
    "\n",
    "    # print(\"labels_arr shape: \",labels_per_row.shape)  # Now displays the actual labels for each row\n",
    "\n",
    "    '''\n",
    "    dists_array has 5 lists within, each list represents a cluster and has 2048 elements.\n",
    "    '''\n",
    "    dists_arrays = [[] for _ in np.unique(labels_per_row[0])]\n",
    "    indices_arrays = [[]for _ in np.unique(labels_per_row[0])]\n",
    "    for dist, ind, labels in zip(dists_ori, indices_ori, labels_per_row):\n",
    "        # dist, ind, labels of shapes: (19,)\n",
    "        for i in  np.unique(labels):\n",
    "            temp_i = ind[np.where(labels == i)[0]]\n",
    "            temp_d = dist[np.where(labels == i)[0]]\n",
    "            dists_arrays[i].append(np.array([temp_d], dtype=object))\n",
    "            indices_arrays[i].append(np.array([temp_i], dtype=object))\n",
    "    return dists_arrays, indices_arrays\n",
    "\n",
    "\n",
    "def visualize_clustered_points(dists_arrays):\n",
    "    #visualising the clusters\n",
    "\n",
    "    fig, ax = plt.subplots() \n",
    "    colors = ['blue', 'red', 'green', 'purple', 'orange']  \n",
    "    for i, bucket in enumerate(dists_arrays):\n",
    "        ax.plot(bucket[0], [i] * len(bucket[0]), '.', color=colors[i], markersize=10)\n",
    "\n",
    "    plt.xlabel(\"Data Values\")\n",
    "    plt.ylabel(\"Cluster Labels\")\n",
    "    plt.title(\"Clustered Data\")\n",
    "    plt.grid(True)\n",
    "    plt.show()\n"
   ]
  },
  {
   "cell_type": "code",
   "execution_count": 4,
   "metadata": {},
   "outputs": [
    {
     "name": "stdout",
     "output_type": "stream",
     "text": [
      "pcd_list shape:  (16867, 2048, 3)\n"
     ]
    }
   ],
   "source": [
    "\n",
    "pcd_list = np.load('pcd_list.npy')\n",
    "norm_list = np.load('normals_list.npy')\n",
    "print(\"pcd_list shape: \", pcd_list.shape)\n",
    "\n",
    "    "
   ]
  },
  {
   "cell_type": "code",
   "execution_count": 10,
   "metadata": {},
   "outputs": [],
   "source": [
    "pcd = pcd_list[10]"
   ]
  },
  {
   "cell_type": "code",
   "execution_count": null,
   "metadata": {},
   "outputs": [],
   "source": []
  }
 ],
 "metadata": {
  "kernelspec": {
   "display_name": "pytorch3d",
   "language": "python",
   "name": "python3"
  },
  "language_info": {
   "codemirror_mode": {
    "name": "ipython",
    "version": 3
   },
   "file_extension": ".py",
   "mimetype": "text/x-python",
   "name": "python",
   "nbconvert_exporter": "python",
   "pygments_lexer": "ipython3",
   "version": "3.9.18"
  }
 },
 "nbformat": 4,
 "nbformat_minor": 2
}
